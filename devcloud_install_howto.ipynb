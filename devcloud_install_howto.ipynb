{
 "cells": [
  {
   "cell_type": "code",
   "execution_count": 1,
   "metadata": {},
   "outputs": [
    {
     "name": "stdout",
     "output_type": "stream",
     "text": [
      "3.5.5 |Anaconda, Inc.| (default, Mar 12 2018, 23:12:44) \n",
      "[GCC 7.2.0]\n"
     ]
    }
   ],
   "source": [
    "import sys\n",
    "print(sys.version)"
   ]
  },
  {
   "cell_type": "code",
   "execution_count": 2,
   "metadata": {},
   "outputs": [
    {
     "name": "stdout",
     "output_type": "stream",
     "text": [
      "# conda environments:\r\n",
      "#\r\n",
      "coach                    /home/u6770/.conda/envs/coach\r\n",
      "root                  *  /glob/intel-python/versions/2018u2/intelpython3\r\n",
      "\r\n"
     ]
    }
   ],
   "source": [
    "!conda env list"
   ]
  },
  {
   "cell_type": "markdown",
   "metadata": {},
   "source": [
    "Create your Coach virtual env."
   ]
  },
  {
   "cell_type": "code",
   "execution_count": null,
   "metadata": {},
   "outputs": [],
   "source": [
    "!conda env create -f /glob/conda-env/cfx-coach.yml"
   ]
  },
  {
   "cell_type": "markdown",
   "metadata": {},
   "source": [
    "Now that your env is installed, we need to install one more package."
   ]
  },
  {
   "cell_type": "code",
   "execution_count": 4,
   "metadata": {},
   "outputs": [
    {
     "name": "stdout",
     "output_type": "stream",
     "text": [
      "Requirement already satisfied: wxPython==4.0.0a2.dev3038+953a2e5 from https://wxpython.org/Phoenix/snapshot-builds/linux/gtk3/centos-7/wxPython-4.0.0a2.dev3038+953a2e5-cp35-cp35m-linux_x86_64.whl in ./.conda/envs/coach/lib/python3.5/site-packages\n",
      "Requirement already satisfied: ipython in ./.conda/envs/coach/lib/python3.5/site-packages\n",
      "Requirement already satisfied: six in ./.conda/envs/coach/lib/python3.5/site-packages (from wxPython==4.0.0a2.dev3038+953a2e5)\n",
      "Requirement already satisfied: pygments in ./.conda/envs/coach/lib/python3.5/site-packages (from ipython)\n",
      "Requirement already satisfied: backcall in ./.conda/envs/coach/lib/python3.5/site-packages (from ipython)\n",
      "Requirement already satisfied: prompt-toolkit<2.0.0,>=1.0.15 in ./.conda/envs/coach/lib/python3.5/site-packages (from ipython)\n",
      "Requirement already satisfied: pickleshare in ./.conda/envs/coach/lib/python3.5/site-packages (from ipython)\n",
      "Requirement already satisfied: jedi>=0.10 in ./.conda/envs/coach/lib/python3.5/site-packages (from ipython)\n",
      "Requirement already satisfied: traitlets>=4.2 in ./.conda/envs/coach/lib/python3.5/site-packages (from ipython)\n",
      "Requirement already satisfied: pexpect; sys_platform != \"win32\" in ./.conda/envs/coach/lib/python3.5/site-packages (from ipython)\n",
      "Requirement already satisfied: simplegeneric>0.8 in ./.conda/envs/coach/lib/python3.5/site-packages (from ipython)\n",
      "Requirement already satisfied: decorator in ./.conda/envs/coach/lib/python3.5/site-packages (from ipython)\n",
      "Requirement already satisfied: setuptools>=18.5 in ./.conda/envs/coach/lib/python3.5/site-packages (from ipython)\n",
      "Requirement already satisfied: wcwidth in ./.conda/envs/coach/lib/python3.5/site-packages (from prompt-toolkit<2.0.0,>=1.0.15->ipython)\n",
      "Requirement already satisfied: parso==0.1.1 in ./.conda/envs/coach/lib/python3.5/site-packages (from jedi>=0.10->ipython)\n",
      "Requirement already satisfied: ipython-genutils in ./.conda/envs/coach/lib/python3.5/site-packages (from traitlets>=4.2->ipython)\n",
      "Requirement already satisfied: ptyprocess>=0.5 in ./.conda/envs/coach/lib/python3.5/site-packages (from pexpect; sys_platform != \"win32\"->ipython)\n",
      "\u001b[33mYou are using pip version 9.0.1, however version 9.0.3 is available.\n",
      "You should consider upgrading via the 'pip install --upgrade pip' command.\u001b[0m\n"
     ]
    }
   ],
   "source": [
    "source activate coach\n",
    "pip install sensenet\n",
    "git clone https://github.com/jtoy/sensenet-coach\n",
    "wget https://sensenet.nyc3.digitaloceanspaces.com/datasets/touchnet_coach_v42.tar.bz2\n",
    "#remember path of dataset\n",
    "pip install https://wxpython.org/Phoenix/snapshot-builds/linux/gtk3/centos-7/wxPython-4.0.0a2.dev3038+953a2e5-cp35-cp35m-linux_x86_64.whl ipython ipykernel"

   ]
  },
  {
   "cell_type": "markdown",
   "metadata": {},
   "source": [
    "Now that the Coach env is ready, we still need to integrate it to Jupyterhub."
   ]
  },
  {
   "cell_type": "code",
   "execution_count": 6,
   "metadata": {},
   "outputs": [
    {
     "name": "stdout",
     "output_type": "stream",
     "text": [
      "Installed kernelspec coach in /home/u6770/.local/share/jupyter/kernels/coach\r\n"
     ]
    }
   ],
   "source": [
    "!source activate coach; ipython kernel install --user --name coach"
   ]
  },
  {
   "cell_type": "markdown",
   "metadata": {},
   "source": [
    "The kernel is now installed and ready to be started in a new notebook."
   ]
  }
 ],
 "metadata": {
  "kernelspec": {
   "display_name": "coach",
   "language": "python",
   "name": "coach"
  },
  "language_info": {
   "codemirror_mode": {
    "name": "ipython",
    "version": 3
   },
   "file_extension": ".py",
   "mimetype": "text/x-python",
   "name": "python",
   "nbconvert_exporter": "python",
   "pygments_lexer": "ipython3",
   "version": "3.5.5"
  }
 },
 "nbformat": 4,
 "nbformat_minor": 2
}
